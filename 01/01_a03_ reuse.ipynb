{
 "cells": [
  {
   "cell_type": "markdown",
   "id": "845d5202",
   "metadata": {
    "lines_to_next_cell": 0
   },
   "source": [
    "\n",
    "# Zadání znovupoužitelnost Reusability\n",
    "\n",
    "Pro to, abychom dnes spočítali sinus nějakého úhlu nemusíme příliš přemýšlet jak je zařízeno, \n",
    "že nám kalkulačka vrací správný výsledek. V programátorské terminologii prostě zavoláme sin(x)\n",
    "\n",
    "načítání dat už znovu programovat nemusíme, máme připravenou funkci v minulém cvičení\n",
    "v pythonu můžeme importovat jiné soubory s pythone zdrojovým kódem pomocí klíčového slova import"
   ]
  },
  {
   "cell_type": "code",
   "execution_count": null,
   "id": "eb611062",
   "metadata": {
    "lines_to_next_cell": 1
   },
   "outputs": [],
   "source": [
    "from typing import Callable, Tuple\n",
    "from a02_load_filter_in_memory import load_data\n",
    "\n",
    "people = load_data(\"osoby.csv\")\n",
    "print(people[:4])"
   ]
  },
  {
   "cell_type": "markdown",
   "id": "aebb7eb0",
   "metadata": {},
   "source": [
    "Soubor se nám opravdu načte za použití funkce, kterou jsme implementovali v minulém cvičení.\n",
    "Také ale věnujme pozornost tomu, že obdržíme výpis o počtu osob s podprůměrnou vahou a nášeho známého Hubeného Staříka.\n",
    "Stane se tak proto, že python, při zavádění nového 'modulu' musí vykonat všechny příkazy, které jsou v něm obsaženy.\n",
    "Pokud tedy kromě definice nových funkcí obsahuje i jejich volání nebo jiný funkční kód, prostě je zavolá. \n",
    "S tímto problémem se umíme vypořádat, prozatím budeme však tento fakt mít na mysli, avšak nebudeme se jím zabývat.\n",
    "\n",
    "## Zadání \n",
    "Z načteného seznamu osob vyfiltrujte pouze ty, které mají obezitu jakéhokoli stupně.\n",
    "\n",
    "podváha < 18,5        \t\n",
    "normální váha\t18,5–24,9\t\n",
    "nadváha\t25–29,9\tmírně   \n",
    "obezita 1. stupně\t30–34,9\t\n",
    "obezita 2. stupně\t35–39,9\t\n",
    "obezita 3. stupně\t≥ 40"
   ]
  },
  {
   "cell_type": "code",
   "execution_count": null,
   "id": "5795e34c",
   "metadata": {
    "lines_to_next_cell": 0
   },
   "outputs": [],
   "source": [
    "def is_obese(person: tuple) -> bool:\n",
    "    firstname,lastname,weight,height,age = person\n",
    "    bmi =  weight / height**2#<--- tato řádka nám způsobí problémy\n",
    "    print(f\"bmi: {bmi}\")\n",
    "    return True\n",
    "    \n",
    "    \n",
    "print(f\"je 1. obezni? {is_obese(people[1])}\")\n",
    "print(f\"je 2. obezni? {is_obese(people[2])}\")\n",
    "\n",
    "\n",
    "def filter(people : tuple, filter_function:Callable[[Tuple[str]],bool]) -> list:\n",
    "    filtered_people  = list()\n",
    "    for person in people:\n",
    "        if filter_function(person):\n",
    "            filtered_people.append(person)\n",
    "    return filtered_people"
   ]
  },
  {
   "cell_type": "code",
   "execution_count": null,
   "id": "9acc58f8",
   "metadata": {
    "lines_to_next_cell": 0
   },
   "outputs": [],
   "source": [
    "\n",
    "filtered_people = filter(people, is_obese)\n",
    "print(filtered_people[:4])"
   ]
  },
  {
   "cell_type": "code",
   "execution_count": null,
   "id": "84cad9c6",
   "metadata": {},
   "outputs": [],
   "source": []
  }
 ],
 "metadata": {
  "jupytext": {
   "cell_metadata_filter": "-all",
   "main_language": "python",
   "notebook_metadata_filter": "-all"
  },
  "language_info": {
   "name": "python"
  }
 },
 "nbformat": 4,
 "nbformat_minor": 5
}
