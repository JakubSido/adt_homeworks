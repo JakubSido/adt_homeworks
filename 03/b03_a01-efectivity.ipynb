{
 "cells": [
  {
   "cell_type": "markdown",
   "id": "e85cd189",
   "metadata": {},
   "source": [
    "# Nedělejme stejnou práci víckrát\n",
    "Jedním ze základním principů při programování je znovupoužitelnost. Znovupoužitelnost, pokud je možná, vždy šetří čas, ať už programátora nebo výpočetní. \n",
    "Nástin toho, jak lze šetřit práci programátora, jsme si ukázali v předchozích lekcích a měli bychom tuto myšlenku držet v paměti -- programujeme přeci právě proto, abychom si ušetřili práci v řešení úloh. \n",
    "Další místo, kde lze ušetřit práci a přispět k efektivitě jakéhokoli snažení je nepočítat stejnou věc vícekrát. \n",
    "\n",
    "Stejně tak, jako projektant stráví čas při návrhu domu, musí podle projektu poté dům někdo postavit. \n",
    "Pokud projektant nezohlední možnost realizace jeho projektu, může se stát, že samotná stavba bude náročná, zdlouhavá nebo dokonce nemožná.\n",
    "\n",
    "Stejně tak je tomu i v programování, pokud programátor bude upřednostňovat svou pohodlnost a bude krátkozraký ke svým dělníkům (procesoru, paměti...), může se stát, že program bude sice teoreticky správný a na pohled krásný, ale prakticky nepoužitelný.\n",
    "\n",
    "Nezapomínejme tedy, že náš předpis pro řešení problému (kód programu), musí reálně počítač vykonat.\n",
    "\n",
    "## Příklad\n",
    "Pro snadnější pochopení si předcházející myšlenku ukážeme na příkladu, který se často používá jako ukázka závislostí při výpočtech a důsledky naivního přístupu. \n",
    "Pro názornost a průhlednost prosím odpusťe méně praktickou úlohu. \n",
    "Vytvoříme jednoduchou funkci, která bude počítat fibonaciho cisla podle definice:\n",
    "\n",
    "$$F(0)=0,\\quad F(1)=1$$\n",
    "$$F(n)=F(n-1)+F(n-2)$$\n",
    "## Úkol"
   ]
  },
  {
   "cell_type": "code",
   "execution_count": null,
   "id": "fc0bbfac",
   "metadata": {
    "lines_to_next_cell": 2
   },
   "outputs": [],
   "source": [
    "def fibonacci(n):\n",
    "    if n <= 1:\n",
    "        return n\n",
    "    else:\n",
    "        return fibonacci(n-1) + fibonacci(n-2)"
   ]
  },
  {
   "cell_type": "markdown",
   "id": "2aff3ddf",
   "metadata": {},
   "source": [
    "Naše implementace funguje, pojďme se ale podívat, jaký objem práce musíme udělat, abychom zjistili hodnotu pro n = 5.\n",
    "Algoritmus je formálně správný -- Je to pouze přepsaná definice pro fibonačiho čísla do programovacího jazyka. \n",
    "Střetává se nám zde ale správnost algoritmu a jeho efektivita.  \n",
    "Následující obrázek ukazuje schéma výpočtu. Pokud bychom použili tuto jednoduchou, avšak naivní implementaci, museli bychom několikrát počítat stejnou věc. \n",
    "<img src=\"./private/03/tree.png\"/>\n",
    "V naší naivní implementaci pro fib(4) počítáme fib(2) dvakrát, fib(1) třikrát. Je patrné,že čím vyšší fibonačiho číslo budeme počítat, tím více se nám bude neefektivita projevovat (viz Experimenty s rychlostí). \n",
    "Ve stromě, který vizualizuje výpočet, se toto projeví identickými podstromy. \n",
    "\n"
   ]
  },
  {
   "cell_type": "code",
   "execution_count": null,
   "id": "fca182a0",
   "metadata": {
    "lines_to_next_cell": 2
   },
   "outputs": [],
   "source": [
    "cache={}\n",
    "def fibonacci_cache(n):\n",
    "    \n",
    "    if n in cache:\n",
    "        return cache[n]\n",
    "\n",
    "    if n <= 1:\n",
    "        return n\n",
    "    else:\n",
    "        result = fibonacci_cache(n-1) + fibonacci_cache(n-2)\n",
    "        cache[n]=result\n",
    "        return result "
   ]
  },
  {
   "cell_type": "markdown",
   "id": "b6d884ff",
   "metadata": {},
   "source": [
    "# Experimenty s rychlostí\n",
    "\n",
    "Nyní si ukážeme, jak se naše naivní implementace chová v porovnání s implementací, která si výsledky ukládá.\n",
    "\n",
    "\n"
   ]
  },
  {
   "cell_type": "code",
   "execution_count": null,
   "id": "df34d54b",
   "metadata": {
    "lines_to_next_cell": 1
   },
   "outputs": [],
   "source": [
    "# Vytovříme si funkci pro měření doby běhu funkce.\n",
    "import time\n",
    "def timing_decorator(func):\n",
    "    def wrapper(*args, **kwargs):\n",
    "        start_time = time.time()            # uložíme si startovní čas\n",
    "        result = func(*args, **kwargs)      # spustíme funkci\n",
    "        end_time = time.time()              # uložíme si koncový čas\n",
    "        elapsed_time = end_time - start_time # spočteme dobu běhu\n",
    "        print(f\"Execution time: {elapsed_time:.6f} seconds\") # vytiskneme výsledek\n",
    "        return result, elapsed_time         # vrátíme výsledek a dobu běhu\n",
    "    return wrapper"
   ]
  },
  {
   "cell_type": "code",
   "execution_count": null,
   "id": "a57c824c",
   "metadata": {
    "lines_to_next_cell": 2
   },
   "outputs": [],
   "source": [
    "times_a = list()  # list pro ukládání časů pro naivní implementaci\n",
    "times_c = list()  # list pro ukládání časů pro implementaci s cache\n",
    "for i in range(0,40,1):\n",
    "    print(f\"fibonacci({i})\")\n",
    "    cache={} # reset cache \n",
    "    _,time_a = timing_decorator(fibonacci)(i)\n",
    "    _,time_c = timing_decorator(fibonacci_cache)(i)\n",
    "    times_a.append(time_a) # uložíme si čas pro naivní implementaci\n",
    "    times_c.append(time_c) # uložíme si čas pro implementaci s cache"
   ]
  },
  {
   "cell_type": "code",
   "execution_count": null,
   "id": "032f039b",
   "metadata": {},
   "outputs": [],
   "source": [
    "# výsledky vizualizujeme pomocí kniohvny seaborn (známe z předchozích lekcí)\n",
    "import seaborn as sns \n",
    "sns.lineplot(x=range(len(times_a)),y=times_a)\n",
    "plot = sns.lineplot(x=range(len(times_c)),y=times_c)\n",
    "plot.set(title='doba výpočtu fibonačiho čísla', xlabel='n', ylabel='čas [s]') \n",
    "\n",
    "\n",
    "# %%[markdown]\n",
    "# Toto vlákno rozebírá problematiku více do detailu. https://stackoverflow.com/questions/6164629/what-is-the-difference-between-bottom-up-and-top-down\n",
    "\n",
    "\n",
    "# # Kde ještě neděláme práci víckrát? \n",
    "# Podobných principů se používá na mnoha místech. V samotném hardwaru výpočetních strojů je několik úrovní paměti, které se liší rychlostí a kapacitou, všechny "
   ]
  },
  {
   "cell_type": "markdown",
   "id": "400f57ec",
   "metadata": {},
   "source": [
    "<img src=\"../logo.png\"/>"
   ]
  }
 ],
 "metadata": {
  "jupytext": {
   "cell_metadata_filter": "-all",
   "main_language": "python",
   "notebook_metadata_filter": "-all"
  },
  "language_info": {
   "name": "python"
  }
 },
 "nbformat": 4,
 "nbformat_minor": 5
}
